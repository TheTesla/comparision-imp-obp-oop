{
 "cells": [
  {
   "cell_type": "markdown",
   "id": "907a3a28",
   "metadata": {},
   "source": [
    "# Object oriented programming\n",
    "\n",
    "Explained by example: __car park__\n",
    "\n",
    "### object oriented"
   ]
  },
  {
   "cell_type": "code",
   "execution_count": 12,
   "id": "06be21d8",
   "metadata": {},
   "outputs": [],
   "source": [
    "class CarPark:\n",
    "    def __init__(self, capacity):\n",
    "        self.totalSpaces = capacity\n",
    "        self.usedSpaces = 0\n",
    "        \n",
    "    def arrive(self):\n",
    "        self.usedSpaces += 1\n",
    "\n",
    "    def leave(self):\n",
    "        self.usedSpaces -= 1\n",
    "\n",
    "    def isFull(self):\n",
    "        return self.totalSpaces == self.usedSpaces\n",
    "\n",
    "    def remainingSpaces(self):\n",
    "        return self.totalSpaces - self.usedSpaces\n",
    "    \n",
    "    def show(self):\n",
    "        print(f'capacity:    {self.totalSpaces: 5d} cars')\n",
    "        print(f'utilization: {self.usedSpaces: 5d} cars ({self.usedSpaces/self.totalSpaces*100:.2f}%)')\n",
    "\n",
    "class Bus:\n",
    "    def __init__(self, capacity):\n",
    "        self.totalSeats = capacity\n",
    "        self.usedSeats = 0\n",
    "    \n",
    "    def show(self):\n",
    "        print(f'capacity:    {self.totalSeats: 5d} people')\n",
    "        print(f'utilization: {self.usedSeats: 5d} people ({self.usedSeats/self.totalSeats*100:.2f}%)')\n",
    "        \n",
    "cpWest = CarPark(100)\n",
    "cpEast = CarPark(70)\n",
    "\n",
    "bus42 = Bus(98)"
   ]
  },
  {
   "cell_type": "code",
   "execution_count": 7,
   "id": "78c7db1f",
   "metadata": {},
   "outputs": [
    {
     "name": "stdout",
     "output_type": "stream",
     "text": [
      "capacity:      100 cars\n",
      "utilization:     2 cars (2.00%)\n"
     ]
    }
   ],
   "source": [
    "cpWest.arrive()\n",
    "cpWest.show()"
   ]
  },
  {
   "cell_type": "code",
   "execution_count": 8,
   "id": "072cac17",
   "metadata": {},
   "outputs": [
    {
     "name": "stdout",
     "output_type": "stream",
     "text": [
      "capacity:      100 cars\n",
      "utilization:     1 cars (1.00%)\n"
     ]
    }
   ],
   "source": [
    "cpWest.leave()\n",
    "cpWest.show()"
   ]
  },
  {
   "cell_type": "code",
   "execution_count": 9,
   "id": "582ca467",
   "metadata": {},
   "outputs": [
    {
     "name": "stdout",
     "output_type": "stream",
     "text": [
      "capacity:       70 cars\n",
      "utilization:     1 cars (1.43%)\n"
     ]
    }
   ],
   "source": [
    "cpEast.arrive()\n",
    "cpEast.show()"
   ]
  },
  {
   "cell_type": "code",
   "execution_count": 10,
   "id": "aa82e7ea",
   "metadata": {},
   "outputs": [
    {
     "name": "stdout",
     "output_type": "stream",
     "text": [
      "capacity:       70 cars\n",
      "utilization:     0 cars (0.00%)\n"
     ]
    }
   ],
   "source": [
    "cpEast.leave()\n",
    "cpEast.show()"
   ]
  },
  {
   "cell_type": "code",
   "execution_count": 14,
   "id": "88d89a52",
   "metadata": {},
   "outputs": [
    {
     "name": "stdout",
     "output_type": "stream",
     "text": [
      "capacity:       98 people\n",
      "utilization:    23 people (23.47%)\n"
     ]
    }
   ],
   "source": [
    "bus42.usedSeats = 23\n",
    "bus42.show()"
   ]
  },
  {
   "cell_type": "code",
   "execution_count": null,
   "id": "13deaacc",
   "metadata": {},
   "outputs": [],
   "source": []
  }
 ],
 "metadata": {
  "kernelspec": {
   "display_name": "Python 3",
   "language": "python",
   "name": "python3"
  },
  "language_info": {
   "codemirror_mode": {
    "name": "ipython",
    "version": 3
   },
   "file_extension": ".py",
   "mimetype": "text/x-python",
   "name": "python",
   "nbconvert_exporter": "python",
   "pygments_lexer": "ipython3",
   "version": "3.8.10"
  }
 },
 "nbformat": 4,
 "nbformat_minor": 5
}
