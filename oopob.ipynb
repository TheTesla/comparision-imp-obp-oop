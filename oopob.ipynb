{
 "cells": [
  {
   "cell_type": "markdown",
   "id": "389f8e8c",
   "metadata": {},
   "source": [
    "# Object oriented programming\n",
    "\n",
    "Explained by example: __car park__\n",
    "\n",
    "### object based"
   ]
  },
  {
   "cell_type": "code",
   "execution_count": 2,
   "id": "963a5388",
   "metadata": {},
   "outputs": [],
   "source": [
    "cpWest = {'totalSpaces': 100, 'usedSpaces': 0}\n",
    "cpEast = {'totalSpaces': 70, 'usedSpaces': 0}\n",
    "\n",
    "def arrive(obj):\n",
    "    obj['usedSpaces'] += 1\n",
    "    \n",
    "def leave(obj):\n",
    "    obj['usedSpaces'] -= 1\n",
    "    \n",
    "def isFull(obj):\n",
    "    return obj['totalSpaces'] == obj['usedSpaces']\n",
    "\n",
    "def remainingSpaces(obj):\n",
    "    return obj['totalSpaces'] - obj['usedSpaces']\n",
    "\n",
    "def showCarPark(cp):\n",
    "    print(f'capacity:    {cp[\"totalSpaces\"]: 5d} cars')\n",
    "    print(f'utilization: {cp[\"usedSpaces\"]: 5d} cars ({cp[\"usedSpaces\"]/cp[\"totalSpaces\"]*100:.2f}%)')\n",
    "    \n",
    "def showBus(bus):\n",
    "    print(f'capacity:    {bus[\"totalSeats\"]: 5d} people')\n",
    "    print(f'utilization: {bus[\"usedSeats\"]: 5d} people ({bus[\"usedSeats\"]/bus[\"totalSeats\"]*100:.2f}%)')"
   ]
  },
  {
   "cell_type": "code",
   "execution_count": 3,
   "id": "5ecd8ecc",
   "metadata": {},
   "outputs": [
    {
     "name": "stdout",
     "output_type": "stream",
     "text": [
      "capacity:      100 cars\n",
      "utilization:     1 cars (1.00%)\n"
     ]
    }
   ],
   "source": [
    "arrive(cpWest)\n",
    "showCarPark(cpWest)"
   ]
  },
  {
   "cell_type": "code",
   "execution_count": 4,
   "id": "904a550d",
   "metadata": {},
   "outputs": [
    {
     "name": "stdout",
     "output_type": "stream",
     "text": [
      "capacity:      100 cars\n",
      "utilization:     0 cars (0.00%)\n"
     ]
    }
   ],
   "source": [
    "leave(cpWest)\n",
    "showCarPark(cpWest)"
   ]
  },
  {
   "cell_type": "code",
   "execution_count": 5,
   "id": "0cc50dc6",
   "metadata": {},
   "outputs": [
    {
     "name": "stdout",
     "output_type": "stream",
     "text": [
      "capacity:       70 cars\n",
      "utilization:     1 cars (1.43%)\n"
     ]
    }
   ],
   "source": [
    "arrive(cpEast)\n",
    "showCarPark(cpEast)"
   ]
  },
  {
   "cell_type": "code",
   "execution_count": 6,
   "id": "cdf6f6e5",
   "metadata": {},
   "outputs": [
    {
     "name": "stdout",
     "output_type": "stream",
     "text": [
      "capacity:       70 cars\n",
      "utilization:     0 cars (0.00%)\n"
     ]
    }
   ],
   "source": [
    "leave(cpEast)\n",
    "showCarPark(cpEast)"
   ]
  },
  {
   "cell_type": "code",
   "execution_count": null,
   "id": "123d9488",
   "metadata": {},
   "outputs": [],
   "source": []
  }
 ],
 "metadata": {
  "kernelspec": {
   "display_name": "Python 3",
   "language": "python",
   "name": "python3"
  },
  "language_info": {
   "codemirror_mode": {
    "name": "ipython",
    "version": 3
   },
   "file_extension": ".py",
   "mimetype": "text/x-python",
   "name": "python",
   "nbconvert_exporter": "python",
   "pygments_lexer": "ipython3",
   "version": "3.8.10"
  }
 },
 "nbformat": 4,
 "nbformat_minor": 5
}
