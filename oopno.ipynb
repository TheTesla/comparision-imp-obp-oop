{
 "cells": [
  {
   "cell_type": "markdown",
   "id": "d49b3014",
   "metadata": {},
   "source": [
    "# Object oriented programming\n",
    "\n",
    "Explained by example: __car park__\n",
    "\n",
    "### no objects"
   ]
  },
  {
   "cell_type": "code",
   "execution_count": 2,
   "id": "7b1b885d",
   "metadata": {},
   "outputs": [],
   "source": [
    "totalSpaces = 100\n",
    "usedSpaces = 0\n",
    "\n",
    "def arrive():\n",
    "    global usedSpaces\n",
    "    usedSpaces += 1\n",
    "    \n",
    "def leave():\n",
    "    global usedSpaces\n",
    "    usedSpaces -= 1\n",
    "    \n",
    "def isFull():\n",
    "    return totalSpaces == usedSpaces\n",
    "\n",
    "def remainingSpaces():\n",
    "    return totalSpaces - usedSpaces\n",
    "\n",
    "def showCarPark():\n",
    "    print(f'capacity:    {totalSpaces: 5d} cars')\n",
    "    print(f'utilization: {usedSpaces: 5d} cars ({usedSpaces/totalSpaces*100:.2f}%)')\n"
   ]
  },
  {
   "cell_type": "code",
   "execution_count": 3,
   "id": "139f7736",
   "metadata": {},
   "outputs": [
    {
     "name": "stdout",
     "output_type": "stream",
     "text": [
      "capacity:      100 cars\n",
      "utilization:     0 cars (0.00%)\n"
     ]
    }
   ],
   "source": [
    "showCarPark()"
   ]
  },
  {
   "cell_type": "code",
   "execution_count": 4,
   "id": "27f62524",
   "metadata": {},
   "outputs": [
    {
     "data": {
      "text/plain": [
       "100"
      ]
     },
     "execution_count": 4,
     "metadata": {},
     "output_type": "execute_result"
    }
   ],
   "source": [
    "remainingSpaces()"
   ]
  },
  {
   "cell_type": "code",
   "execution_count": 9,
   "id": "86f143cb",
   "metadata": {},
   "outputs": [
    {
     "name": "stdout",
     "output_type": "stream",
     "text": [
      "capacity:      100 cars\n",
      "utilization:     4 cars (4.00%)\n"
     ]
    }
   ],
   "source": [
    "arrive()\n",
    "showCarPark()"
   ]
  },
  {
   "cell_type": "code",
   "execution_count": 13,
   "id": "feda9e38",
   "metadata": {},
   "outputs": [
    {
     "name": "stdout",
     "output_type": "stream",
     "text": [
      "capacity:      100 cars\n",
      "utilization:     0 cars (0.00%)\n"
     ]
    }
   ],
   "source": [
    "leave()\n",
    "showCarPark()"
   ]
  },
  {
   "cell_type": "code",
   "execution_count": 14,
   "id": "2525fc94",
   "metadata": {},
   "outputs": [],
   "source": [
    "totalSpacesWest = 100\n",
    "usedSpacesWest = 0\n",
    "\n",
    "def arriveWest():\n",
    "    global usedSpacesWest\n",
    "    usedSpacesWest += 1\n",
    "    \n",
    "def leaveWest():\n",
    "    global usedSpacesWest\n",
    "    usedSpacesWest -= 1\n",
    "    \n",
    "def isFullWest():\n",
    "    return totalSpacesWest == usedSpacesWest\n",
    "\n",
    "def remainingSpacesWest():\n",
    "    return totalSpacesWest - usedSpacesWest\n",
    "\n",
    "def showCarParkWest():\n",
    "    print(f'capacity:    {totalSpacesWest: 5d} cars')\n",
    "    print(f'utilization: {usedSpacesWest: 5d} cars ({usedSpacesWest/totalSpacesWest*100:.2f}%)')\n",
    "\n",
    "totalSpacesEast = 70\n",
    "usedSpacesEast = 0\n",
    "\n",
    "def arriveEast():\n",
    "    global usedSpacesEast\n",
    "    usedSpacesEast += 1\n",
    "    \n",
    "def leaveEast():\n",
    "    global usedSpacesEast\n",
    "    usedSpacesEast -= 1\n",
    "    \n",
    "def isFullEast():\n",
    "    return totalSpacesEast == usedSpacesEast\n",
    "\n",
    "def remainingSpacesEast():\n",
    "    return totalSpacesEast - usedSpacesEast\n",
    "\n",
    "def showCarParkEast():\n",
    "    print(f'capacity:    {totalSpacesEast: 5d} cars')\n",
    "    print(f'utilization: {usedSpacesEast: 5d} cars ({usedSpacesEast/totalSpacesEast*100:.2f}%)')\n"
   ]
  },
  {
   "cell_type": "code",
   "execution_count": 27,
   "id": "2455ce45",
   "metadata": {},
   "outputs": [
    {
     "name": "stdout",
     "output_type": "stream",
     "text": [
      "capacity:      100 cars\n",
      "utilization:     4 cars (4.00%)\n"
     ]
    }
   ],
   "source": [
    "arriveWest()\n",
    "showCarParkWest()"
   ]
  },
  {
   "cell_type": "code",
   "execution_count": 30,
   "id": "ad06f06f",
   "metadata": {},
   "outputs": [
    {
     "name": "stdout",
     "output_type": "stream",
     "text": [
      "capacity:      100 cars\n",
      "utilization:     1 cars (1.00%)\n"
     ]
    }
   ],
   "source": [
    "leaveWest()\n",
    "showCarParkWest()"
   ]
  },
  {
   "cell_type": "code",
   "execution_count": 23,
   "id": "da61a917",
   "metadata": {},
   "outputs": [
    {
     "name": "stdout",
     "output_type": "stream",
     "text": [
      "capacity:       70 cars\n",
      "utilization:     3 cars (4.29%)\n"
     ]
    }
   ],
   "source": [
    "arriveEast()\n",
    "showCarParkEast()"
   ]
  },
  {
   "cell_type": "code",
   "execution_count": 25,
   "id": "4684dcf3",
   "metadata": {},
   "outputs": [
    {
     "name": "stdout",
     "output_type": "stream",
     "text": [
      "capacity:       70 cars\n",
      "utilization:     1 cars (1.43%)\n"
     ]
    }
   ],
   "source": [
    "leaveEast()\n",
    "showCarParkEast()"
   ]
  },
  {
   "cell_type": "code",
   "execution_count": null,
   "id": "3f006fe7",
   "metadata": {},
   "outputs": [],
   "source": []
  },
  {
   "cell_type": "code",
   "execution_count": null,
   "id": "15c209d1",
   "metadata": {},
   "outputs": [],
   "source": []
  },
  {
   "cell_type": "code",
   "execution_count": null,
   "id": "da1e53c1",
   "metadata": {},
   "outputs": [],
   "source": []
  }
 ],
 "metadata": {
  "kernelspec": {
   "display_name": "Python 3",
   "language": "python",
   "name": "python3"
  },
  "language_info": {
   "codemirror_mode": {
    "name": "ipython",
    "version": 3
   },
   "file_extension": ".py",
   "mimetype": "text/x-python",
   "name": "python",
   "nbconvert_exporter": "python",
   "pygments_lexer": "ipython3",
   "version": "3.8.10"
  }
 },
 "nbformat": 4,
 "nbformat_minor": 5
}
